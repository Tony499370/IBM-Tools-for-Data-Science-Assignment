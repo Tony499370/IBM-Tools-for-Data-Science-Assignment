{
  "metadata": {
    "language_info": {
      "file_extension": ".py",
      "mimetype": "text/x-python",
      "name": "python",
      "version": "3.10.2"
    },
    "kernelspec": {
      "name": "xeus-python",
      "display_name": "Python (XPython)",
      "language": "python"
    }
  },
  "nbformat_minor": 4,
  "nbformat": 4,
  "cells": [
    {
      "cell_type": "markdown",
      "source": "## My Jupyter Notebook on IBM Watson Studio\n### Abhishek Lakhote\n### Aspiring Software Developer\n\n### I am interested in data science",
      "metadata": {}
    },
    {
      "cell_type": "code",
      "source": "print(\"Hello IBM\")",
      "metadata": {
        "trusted": true
      },
      "execution_count": 1,
      "outputs": [
        {
          "name": "stdout",
          "text": "Hello IBM\n",
          "output_type": "stream"
        }
      ]
    },
    {
      "cell_type": "code",
      "source": "print(10+5)",
      "metadata": {
        "trusted": true
      },
      "execution_count": 1,
      "outputs": [
        {
          "name": "stdout",
          "text": "15\n",
          "output_type": "stream"
        }
      ]
    },
    {
      "cell_type": "code",
      "source": "# Convert minutes to hours\nminutes = 120\nhours = minutes / 60\nprint(f\"{minutes} minutes is equal to {hours} hours\")\n",
      "metadata": {
        "trusted": true
      },
      "execution_count": 2,
      "outputs": [
        {
          "name": "stdout",
          "text": "120 minutes is equal to 2.0 hours\n",
          "output_type": "stream"
        }
      ]
    },
    {
      "cell_type": "markdown",
      "source": "# Exercise Notebook\n\n## Introduction\nThis notebook covers various exercises related to markdown and basic Python coding.\n\n## Data Science Languages\n- Python\n- R\n- Julia\n\n## Data Science Libraries\n- NumPy\n- Pandas\n- Matplotlib\n- Seaborn\n- Scikit-learn\n\n## Data Science Tools\n\n| Tool          | Description                   |\n|---------------|-------------------------------|\n| Jupyter       | Interactive notebooks        |\n| VS Code       | Integrated Development Environment (IDE) |\n| Git           | Version control system        |\n| Docker        | Containerization platform     |\n\n## Arithmetic Expression Examples\nIn this section, we'll explore examples of basic arithmetic expressions.\n\n## Code Cells\n\n### Multiply and Add Numbers\n```python\n# Multiply and add numbers\nresult = 2 * 3 + 5\nprint(result)\n",
      "metadata": {}
    },
    {
      "cell_type": "code",
      "source": "",
      "metadata": {},
      "execution_count": null,
      "outputs": []
    }
  ]
}